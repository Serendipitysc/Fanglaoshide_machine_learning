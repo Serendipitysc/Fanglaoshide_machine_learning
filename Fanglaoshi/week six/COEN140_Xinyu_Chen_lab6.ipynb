{
 "cells": [
  {
   "cell_type": "code",
   "execution_count": 2,
   "metadata": {},
   "outputs": [
    {
     "name": "stdout",
     "output_type": "stream",
     "text": [
      "57 57\n",
      "shape of training_data: (3065, 58) and the shape of training_data_labels: [1. 1. 1. ... 0. 0. 0.] the type of the training data is: <class 'numpy.ndarray'>\n",
      "57 57\n",
      "shape of testing_data: (1536, 58) and the shape of testing_data_labels: (1536,)\n"
     ]
    }
   ],
   "source": [
    "import numpy as np\n",
    "from statistics import stdev \n",
    "def data_reformat(filename):\n",
    "    data = []\n",
    "    ''''load data from .data file to list of list'''\n",
    "    f=open(filename)\n",
    "    sample=f.readlines()\n",
    "    for i in range(len(sample)):\n",
    "        sample[i] = sample[i].strip().split(',')\n",
    "    for item in sample:\n",
    "        list1=[]\n",
    "        for i in range(len(item)):\n",
    "            list1.append(np.float64(item[i]))\n",
    "        data.append(list1)\n",
    "    \n",
    "    labels = []\n",
    "    for instance in data:\n",
    "        labels.append(instance[-1])\n",
    "        instance.pop(-1)\n",
    "    \n",
    "    mean = []\n",
    "    std = []\n",
    "    for ii in range(len(data[0])):\n",
    "        entry = []\n",
    "        for itm in data:\n",
    "            entry.append(itm[ii])\n",
    "        mean.append(sum(entry)/len(entry))\n",
    "        std.append(stdev(entry))\n",
    "    print(len(mean), len(std))\n",
    "    \n",
    "    \n",
    "    for itm in data:\n",
    "        for jj in range(len(itm)):\n",
    "            itm[jj] = (itm[jj] - mean[jj])/std[jj]\n",
    "        \n",
    "\n",
    "    for instance in data:\n",
    "        instance.append(np.float64(1))\n",
    "    '''convert data to numpy array'''  \n",
    "    prepared_data = np.array(data)\n",
    "    labels = np.array(labels)\n",
    "    \n",
    "    return prepared_data, labels\n",
    "\n",
    "training_data, training_data_labels=data_reformat(\"spam-train\")\n",
    "print(\"shape of training_data:\", training_data.shape, \"and the shape of training_data_labels:\", training_data_labels,\"the type of the training data is:\", type(training_data))\n",
    "testing_data, testing_data_labels = data_reformat(\"spam-test\")\n",
    "print(\"shape of testing_data:\", testing_data.shape, \"and the shape of testing_data_labels:\", testing_data_labels.shape)"
   ]
  },
  {
   "cell_type": "code",
   "execution_count": 3,
   "metadata": {},
   "outputs": [
    {
     "name": "stdout",
     "output_type": "stream",
     "text": [
      "(58,)\n",
      "(58,)\n",
      "0.09690048939641109\n",
      "0.09895833333333333\n"
     ]
    }
   ],
   "source": [
    "from random import *\n",
    "epsilon = 10**-5\n",
    "#linear test error: 0.14550044963059267 \n",
    "#linear train error: 0.12928590193840733 \n",
    "#alpha = 0.00000845\n",
    "def problem1(samples):\n",
    "    alpha = 0.000009\n",
    "    w_initial = []\n",
    "    for i in range(58):\n",
    "        w_initial.append(np.float64(0.00001))\n",
    "    w_t = np.array(w_initial)\n",
    "    #print(\"w_t:\",w_t,\"\\n\")\n",
    "    print((training_data).T.dot(training_data_labels - signoid(training_data, w_t)).shape)\n",
    "    w_t1 = w_t + alpha * (training_data).T.dot(training_data_labels - signoid(training_data, w_t))\n",
    "    #print(\"w_t1\",w_t1.shape,\"\\n\")\n",
    "    while weight_compare(w_t, w_t1) == False:\n",
    "        w_t = w_t1\n",
    "        #print(\"w_t:\",w_t,\"\\n\")\n",
    "        #print(signoid(training_data, w_t).shape)\n",
    "        w_t1 = w_t + alpha * (training_data).T.dot(training_data_labels - signoid(training_data, w_t))\n",
    "        #print(\"w_t1:\",w_t1,\"\\n\")\n",
    "    return (samples).dot(w_t1)\n",
    "\n",
    "def weight_compare(w1, w2):\n",
    "    assert len(w1) == len(w2)\n",
    "    for i in range(len(w1)):\n",
    "        if abs(w1[i]-w2[i])>(epsilon):\n",
    "            return True\n",
    "    return False\n",
    "\n",
    "def signoid(x,w):\n",
    "    return np.float64(np.float64(1) / (np.float64(1) + np.exp((x).dot(w))))\n",
    "\n",
    "def show_score(pred, ans):\n",
    "    count = 0\n",
    "    assert len(pred) == len(ans)\n",
    "    for i in range(len(pred)):\n",
    "        if (pred[i]<np.float64(0) and ans[i] > 0.0) or (pred[i]>np.float64(0) and ans[i] < 1.0):\n",
    "            count += 1\n",
    "    return count/len(pred)\n",
    "            \n",
    "train_pred = problem1(training_data)\n",
    "test_pred = problem1(testing_data)\n",
    "print(show_score(train_pred, training_data_labels))\n",
    "print(show_score(test_pred, testing_data_labels))"
   ]
  },
  {
   "cell_type": "markdown",
   "metadata": {},
   "source": [
    "alpha = 0.000009\n",
    "epsilon = 10**-5\n",
    "training error = 0.09690048939641109\n",
    "testing error = 0.099609375\n",
    "\n",
    "\n"
   ]
  }
 ],
 "metadata": {
  "kernelspec": {
   "display_name": "Python 3",
   "language": "python",
   "name": "python3"
  },
  "language_info": {
   "codemirror_mode": {
    "name": "ipython",
    "version": 3
   },
   "file_extension": ".py",
   "mimetype": "text/x-python",
   "name": "python",
   "nbconvert_exporter": "python",
   "pygments_lexer": "ipython3",
   "version": "3.7.3"
  }
 },
 "nbformat": 4,
 "nbformat_minor": 2
}
