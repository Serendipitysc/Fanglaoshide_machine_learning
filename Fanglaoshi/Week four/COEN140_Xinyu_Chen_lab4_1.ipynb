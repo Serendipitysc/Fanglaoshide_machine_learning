{
 "cells": [
  {
   "cell_type": "code",
   "execution_count": 1,
   "metadata": {},
   "outputs": [],
   "source": [
    "import numpy as np\n",
    "'''\n",
    "problem1 function read the data, and format the data to numpy array\n",
    "\n",
    "Return: the numpy array\n",
    "'''\n",
    "def data_reformation(filename):\n",
    "    data = []\n",
    "    ''''load data from .data file to list of list'''\n",
    "    f=open(filename)\n",
    "    sample=f.readlines()\n",
    "    for i in range(len(sample)):\n",
    "        sample[i] = sample[i].strip().split('\\t')\n",
    "\n",
    "    attributes = sample[0]\n",
    "    sample.pop(0)\n",
    "    #print(\"the sample we got right now is:\", len(sample))\n",
    "    for item in sample:\n",
    "        list=[]\n",
    "        for i in range(len(item)):\n",
    "            list.append(np.float64(item[i]))\n",
    "        list.append(np.float64(1))\n",
    "        data.append(list)\n",
    "    \n",
    "    labels = []\n",
    "    for instance in data:\n",
    "        labels.append(instance[0])\n",
    "        instance.pop(0)\n",
    "    '''convert data to numpy array'''  \n",
    "    prepared_data = np.array(data)\n",
    "    labels = np.array(labels)\n",
    "    \n",
    "    return prepared_data, labels\n",
    "\n",
    "\n",
    "training_data, training_data_labels = data_reformation(\"crime-train.txt\")\n",
    "#print(\"shape of training_data:\", training_data.shape, \"and the shape of training_data_labels:\", training_data_labels.shape)\n",
    "testing_data, testing_data_labels = data_reformation(\"crime-test.txt\")\n",
    "#print(\"shape of testing_data:\", testing_data.shape, \"and the shape of testing_data_labels:\", testing_data_labels.shape)"
   ]
  },
  {
   "cell_type": "code",
   "execution_count": 2,
   "metadata": {},
   "outputs": [
    {
     "name": "stdout",
     "output_type": "stream",
     "text": [
      "the shape of w is: (96,)\n",
      "the shape of w is: (96,)\n",
      "linear test error: 0.1458346449094907 \n",
      "\n",
      "ridge test error: 0.147656984685261 \n",
      "\n",
      "linear train error: 0.12768967421762192 \n",
      "\n",
      "ridge train error: 0.13134320424615786 \n",
      "\n"
     ]
    }
   ],
   "source": [
    "def problem1(samples):\n",
    "    w = np.linalg.inv((training_data).T.dot(training_data)).dot((training_data).T).dot(training_data_labels)\n",
    "    print(\"the shape of w is:\", w.shape)\n",
    "    return (samples).dot(w) \n",
    "\n",
    "def problem2(samples):\n",
    "    i_matrix = np.identity(96, dtype = np.float64())\n",
    "    lambda_size  = 100\n",
    "    w =  np.linalg.inv((training_data).T.dot(training_data) + lambda_size * i_matrix).dot((training_data).T).dot(training_data_labels)\n",
    "    return (samples).dot(w)\n",
    "\n",
    "def show_rmse(pred, ans):\n",
    "    assert len(pred) == len(ans)\n",
    "    sqr_sum = 0\n",
    "    for i, j in zip(pred, ans):\n",
    "        sqr_sum = sqr_sum + (i-j)**2\n",
    "    return (sqr_sum/len(pred))**(1/2)\n",
    "\n",
    "linear_test_pred = problem1(testing_data)\n",
    "linear_train_pred = problem1(training_data)\n",
    "ridge_test_pred = problem2(testing_data)\n",
    "ridge_train_pred = problem2(training_data)\n",
    "\n",
    "print(\"linear test error:\",show_rmse(linear_test_pred, testing_data_labels),\"\\n\")\n",
    "print(\"ridge test error:\",show_rmse(ridge_test_pred, testing_data_labels),\"\\n\")\n",
    "print(\"linear train error:\",show_rmse(linear_train_pred, training_data_labels),\"\\n\")\n",
    "print(\"ridge train error:\",show_rmse(ridge_train_pred, training_data_labels),\"\\n\")"
   ]
  },
  {
   "cell_type": "markdown",
   "metadata": {},
   "source": [
    "linear test error: 0.1458346449094907 \n",
    "\n",
    "ridge test error: 0.147656984685261 \n",
    "\n",
    "linear train error: 0.12768967421762192 \n",
    "\n",
    "ridge train error: 0.13134320424615786"
   ]
  }
 ],
 "metadata": {
  "kernelspec": {
   "display_name": "Python 3",
   "language": "python",
   "name": "python3"
  },
  "language_info": {
   "codemirror_mode": {
    "name": "ipython",
    "version": 3
   },
   "file_extension": ".py",
   "mimetype": "text/x-python",
   "name": "python",
   "nbconvert_exporter": "python",
   "pygments_lexer": "ipython3",
   "version": "3.7.3"
  }
 },
 "nbformat": 4,
 "nbformat_minor": 2
}
